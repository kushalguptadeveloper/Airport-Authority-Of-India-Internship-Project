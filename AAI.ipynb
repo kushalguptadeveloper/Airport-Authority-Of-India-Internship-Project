{
 "cells": [
  {
   "cell_type": "code",
   "execution_count": 61,
   "metadata": {},
   "outputs": [],
   "source": [
    "import pandas as pd\n",
    "from sklearn.linear_model import LinearRegression"
   ]
  },
  {
   "cell_type": "markdown",
   "metadata": {},
   "source": [
    "# January"
   ]
  },
  {
   "cell_type": "markdown",
   "metadata": {},
   "source": [
    "## Aircraft All India International and Domestic"
   ]
  },
  {
   "cell_type": "code",
   "execution_count": 72,
   "metadata": {},
   "outputs": [
    {
     "data": {
      "text/plain": [
       "LinearRegression(copy_X=True, fit_intercept=True, n_jobs=1, normalize=False)"
      ]
     },
     "execution_count": 72,
     "metadata": {},
     "output_type": "execute_result"
    }
   ],
   "source": [
    "jan_aircraft = pd.read_csv(\"/Users/kushalgupta/Downloads/Main/1. Jan/Comma Delimited/Aircraft/All India.csv\")\n",
    "jan_aircraft = jan_aircraft.iloc[0:10,:]\n",
    "jan_aircraft.columns = [\"year\",\"international\",\"domestic\",\"total\"]\n",
    "X_jan = jan_aircraft[\"year\"].values.reshape(-1,1)\n",
    "Y_jan_aircraft_international = jan_aircraft[\"international\"]\n",
    "alg_jan_aircraft_international = LinearRegression()\n",
    "alg_jan_aircraft_international.fit(X_jan,Y_jan_aircraft_international)\n",
    "\n",
    "Y_jan_aircraft_domestic = jan_aircraft[\"domestic\"]\n",
    "alg_jan_aircraft_domestic = LinearRegression()\n",
    "alg_jan_aircraft_domestic.fit(X_jan,Y_jan_aircraft_domestic)\n",
    "\n"
   ]
  },
  {
   "cell_type": "markdown",
   "metadata": {},
   "source": [
    "## Aircraft Delhi International and Domestic"
   ]
  },
  {
   "cell_type": "code",
   "execution_count": 76,
   "metadata": {},
   "outputs": [
    {
     "data": {
      "text/plain": [
       "LinearRegression(copy_X=True, fit_intercept=True, n_jobs=1, normalize=False)"
      ]
     },
     "execution_count": 76,
     "metadata": {},
     "output_type": "execute_result"
    }
   ],
   "source": [
    "jan_aircraft_delhi = pd.read_csv(\"/Users/kushalgupta/Downloads/Main/1. Jan/Comma Delimited/Aircraft/Delhi.csv\")\n",
    "jan_aircraft_delhi = jan_aircraft_delhi.iloc[0:10,:]\n",
    "jan_aircraft_delhi.columns = [\"year\",\"international\",\"domestic\",\"total\"]\n",
    "X_jan = jan_aircraft_delhi[\"year\"].values.reshape(-1,1)\n",
    "Y_jan_aircraft_international_delhi = jan_aircraft_delhi[\"international\"]\n",
    "alg_jan_aircraft_international_delhi = LinearRegression()\n",
    "alg_jan_aircraft_international_delhi.fit(X_jan,Y_jan_aircraft_international_delhi)\n",
    "\n",
    "Y_jan_aircraft_domestic_delhi = jan_aircraft_delhi[\"domestic\"]\n",
    "alg_jan_aircraft_domestic_delhi = LinearRegression()\n",
    "alg_jan_aircraft_domestic_delhi.fit(X_jan,Y_jan_aircraft_domestic_delhi)\n",
    "\n",
    "\n"
   ]
  },
  {
   "cell_type": "markdown",
   "metadata": {},
   "source": [
    "## Freight All India International and Domestic"
   ]
  },
  {
   "cell_type": "code",
   "execution_count": 75,
   "metadata": {},
   "outputs": [
    {
     "data": {
      "text/plain": [
       "LinearRegression(copy_X=True, fit_intercept=True, n_jobs=1, normalize=False)"
      ]
     },
     "execution_count": 75,
     "metadata": {},
     "output_type": "execute_result"
    }
   ],
   "source": [
    "\n",
    "jan_freight = pd.read_csv(\"/Users/kushalgupta/Downloads/Main/1. Jan/Comma Delimited/Freight/All India.csv\")\n",
    "jan_freight = jan_freight.iloc[0:10,:]\n",
    "jan_freight.columns = [\"year\",\"international\",\"domestic\",\"total\"]\n",
    "X_jan = jan_freight[\"year\"].values.reshape(-1,1)\n",
    "Y_jan_freight_international = jan_freight[\"international\"]\n",
    "alg_jan_freight_international = LinearRegression()\n",
    "alg_jan_freight_international.fit(X_jan,Y_jan_freight_international)\n",
    "\n",
    "Y_jan_freight_domestic = jan_aircraft[\"domestic\"]\n",
    "alg_jan_freight_domestic = LinearRegression()\n",
    "alg_jan_freight_domestic.fit(X_jan,Y_jan_freight_domestic)\n",
    "\n",
    "\n"
   ]
  },
  {
   "cell_type": "markdown",
   "metadata": {},
   "source": [
    "## Freight Delhi International and Domestic"
   ]
  },
  {
   "cell_type": "code",
   "execution_count": 77,
   "metadata": {},
   "outputs": [
    {
     "data": {
      "text/plain": [
       "LinearRegression(copy_X=True, fit_intercept=True, n_jobs=1, normalize=False)"
      ]
     },
     "execution_count": 77,
     "metadata": {},
     "output_type": "execute_result"
    }
   ],
   "source": [
    "jan_freight_delhi = pd.read_csv(\"/Users/kushalgupta/Downloads/Main/1. Jan/Comma Delimited/Freight/Delhi.csv\")\n",
    "jan_freight_delhi = jan_freight_delhi.iloc[0:10,:]\n",
    "jan_freight_delhi.columns = [\"year\",\"international\",\"domestic\",\"total\"]\n",
    "X_jan = jan_freight_delhi[\"year\"].values.reshape(-1,1)\n",
    "Y_jan_freight_international_delhi = jan_freight_delhi[\"international\"]\n",
    "alg_jan_freight_international_delhi = LinearRegression()\n",
    "alg_jan_freight_international_delhi.fit(X_jan,Y_jan_freight_international_delhi)\n",
    "\n",
    "Y_jan_freight_domestic_delhi = jan_freight_delhi[\"domestic\"]\n",
    "alg_jan_freight_domestic_delhi = LinearRegression()\n",
    "alg_jan_freight_domestic_delhi.fit(X_jan,Y_jan_freight_domestic_delhi)\n",
    "\n",
    "\n",
    "\n"
   ]
  },
  {
   "cell_type": "code",
   "execution_count": 51,
   "metadata": {},
   "outputs": [],
   "source": []
  },
  {
   "cell_type": "code",
   "execution_count": 46,
   "metadata": {},
   "outputs": [],
   "source": []
  },
  {
   "cell_type": "code",
   "execution_count": null,
   "metadata": {},
   "outputs": [],
   "source": []
  },
  {
   "cell_type": "code",
   "execution_count": null,
   "metadata": {},
   "outputs": [],
   "source": []
  },
  {
   "cell_type": "code",
   "execution_count": null,
   "metadata": {},
   "outputs": [],
   "source": []
  },
  {
   "cell_type": "code",
   "execution_count": null,
   "metadata": {},
   "outputs": [],
   "source": []
  }
 ],
 "metadata": {
  "kernelspec": {
   "display_name": "Python 3",
   "language": "python",
   "name": "python3"
  },
  "language_info": {
   "codemirror_mode": {
    "name": "ipython",
    "version": 3
   },
   "file_extension": ".py",
   "mimetype": "text/x-python",
   "name": "python",
   "nbconvert_exporter": "python",
   "pygments_lexer": "ipython3",
   "version": "3.6.4"
  }
 },
 "nbformat": 4,
 "nbformat_minor": 2
}
